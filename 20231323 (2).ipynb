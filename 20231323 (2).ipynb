{
  "nbformat": 4,
  "nbformat_minor": 0,
  "metadata": {
    "colab": {
      "provenance": []
    },
    "kernelspec": {
      "name": "python3",
      "display_name": "Python 3"
    },
    "language_info": {
      "name": "python"
    }
  },
  "cells": [
    {
      "cell_type": "markdown",
      "source": [
        "# Assignment04"
      ],
      "metadata": {
        "id": "GxFY5FZOlMh5"
      }
    },
    {
      "cell_type": "markdown",
      "source": [
        "## 1. LeetCode 225. Implement Stack using Queues\n"
      ],
      "metadata": {
        "id": "mO5uKlvVaSw8"
      }
    },
    {
      "cell_type": "code",
      "source": [
        "# LeetCode 225 풀이 코드 (Improved)\n",
        "from collections import deque\n",
        "\n",
        "class MyStack:\n",
        "    def __init__(self):\n",
        "        self.q = deque()\n",
        "\n",
        "    def push(self, x: int) -> None:\n",
        "        self.q.append(x)\n",
        "        for _ in range(len(self.q) - 1):\n",
        "            self.q.append(self.q.popleft())\n",
        "\n",
        "    def pop(self) -> int:\n",
        "        return self.q.popleft()\n",
        "\n",
        "    def top(self) -> int:\n",
        "        return self.q[0]\n",
        "\n",
        "    def empty(self) -> bool:\n",
        "        return not self.q"
      ],
      "metadata": {
        "id": "Nl1N33dujjtd"
      },
      "execution_count": 14,
      "outputs": []
    },
    {
      "cell_type": "markdown",
      "source": [
        "##2. LeetCode 232. Implement Queue using Stacks\n"
      ],
      "metadata": {
        "id": "Yh1owMwmaiTH"
      }
    },
    {
      "cell_type": "code",
      "source": [
        "# LeetCode 232 풀이 코드\n",
        "class MyQueue:\n",
        "\n",
        "    def __init__(self):\n",
        "        self.in_stack = []\n",
        "        self.out_stack = []\n",
        "\n",
        "    def push(self, x: int) -> None:\n",
        "        self.in_stack.append(x)\n",
        "\n",
        "    def pop(self) -> int:\n",
        "        self.peek()\n",
        "        return self.out_stack.pop()\n",
        "\n",
        "    def peek(self) -> int:\n",
        "        if not self.out_stack:\n",
        "            while self.in_stack:\n",
        "                self.out_stack.append(self.in_stack.pop())\n",
        "        return self.out_stack[-1]\n",
        "\n",
        "    def empty(self) -> bool:\n",
        "        return not self.in_stack and not self.out_stack\n"
      ],
      "metadata": {
        "id": "UJ3sSsd4aolP"
      },
      "execution_count": 15,
      "outputs": []
    },
    {
      "cell_type": "markdown",
      "source": [
        "## 3. 교재의 큐 연습문제 전부"
      ],
      "metadata": {
        "id": "l9xqhuvtbLIs"
      }
    },
    {
      "cell_type": "markdown",
      "source": [
        "### 01"
      ],
      "metadata": {
        "id": "nTJq1Nj9bcSB"
      }
    },
    {
      "cell_type": "code",
      "source": [
        "class ListQueue:\n",
        "    def __init__(self):\n",
        "        self.__queue = []\n",
        "\n",
        "    def enqueue(self, x):\n",
        "        # 리스트의 맨 앞에 추가\n",
        "        self.__queue.insert(0, x)\n",
        "\n",
        "    def dequeue(self):\n",
        "        # 리스트의 맨 뒤에서 제거\n",
        "        return self.__queue.pop()\n",
        "\n",
        "    def front(self):\n",
        "        # 리스트의 맨 뒤가 큐의 front\n",
        "        return self.__queue[-1]\n",
        "\n",
        "    def isEmpty(self) -> bool:\n",
        "        return len(self.__queue) == 0\n",
        "\n",
        "    def dequeueAll(self):\n",
        "        self.__queue.clear()\n"
      ],
      "metadata": {
        "id": "NWxkzYRobfB7"
      },
      "execution_count": 16,
      "outputs": []
    },
    {
      "cell_type": "markdown",
      "source": [
        "### 02"
      ],
      "metadata": {
        "id": "jqFUkZHtbhH6"
      }
    },
    {
      "cell_type": "code",
      "source": [
        "from collections import deque\n",
        "\n",
        "def is_palindrome(s):\n",
        "    q = deque(s)\n",
        "    while len(q) > 1:\n",
        "        if q.popleft() != q.pop():\n",
        "            return False\n",
        "    return True\n",
        "\n",
        "# 테스트\n",
        "print(is_palindrome(\"wow\"))  # True\n",
        "print(is_palindrome(\"word\"))  # False\n",
        "\n"
      ],
      "metadata": {
        "colab": {
          "base_uri": "https://localhost:8080/"
        },
        "id": "gom7NJ_FbkSR",
        "outputId": "f63fd3c3-a7fc-4cd0-eb07-8f5c89006ae7"
      },
      "execution_count": 17,
      "outputs": [
        {
          "output_type": "stream",
          "name": "stdout",
          "text": [
            "True\n",
            "False\n"
          ]
        }
      ]
    },
    {
      "cell_type": "markdown",
      "source": [
        "### 03"
      ],
      "metadata": {
        "id": "CS5m1lXucqjQ"
      }
    },
    {
      "cell_type": "code",
      "source": [
        "# a에서 b로 복사 (단순 복사 아님, 내용만 복사)\n",
        "\n",
        "class LinkedQueue:\n",
        "    def __init__(self):\n",
        "        self.data = []\n",
        "\n",
        "    def enqueue(self, x):\n",
        "        self.data.append(x)\n",
        "\n",
        "    def dequeue(self):\n",
        "        return self.data.pop(0)\n",
        "\n",
        "    def is_empty(self):\n",
        "        return len(self.data) == 0\n",
        "\n",
        "    def front(self):\n",
        "        return self.data[0]\n",
        "\n",
        "a = LinkedQueue()\n",
        "b = LinkedQueue()\n",
        "\n",
        "for val in [1, 2, 3]:\n",
        "    a.enqueue(val)\n",
        "\n",
        "temp = LinkedQueue()\n",
        "\n",
        "while not a.is_empty():\n",
        "    x = a.dequeue()\n",
        "    b.enqueue(x)\n",
        "    temp.enqueue(x)\n",
        "\n",
        "while not temp.is_empty():\n",
        "    a.enqueue(temp.dequeue())\n",
        "\n",
        "print(a.data)  # [1, 2, 3]\n",
        "print(b.data)  # [1, 2, 3]\n"
      ],
      "metadata": {
        "colab": {
          "base_uri": "https://localhost:8080/"
        },
        "id": "dzcIhPyecsZo",
        "outputId": "3f53b303-1fe5-45ae-8de4-2513540a1668"
      },
      "execution_count": 18,
      "outputs": [
        {
          "output_type": "stream",
          "name": "stdout",
          "text": [
            "[1, 2, 3]\n",
            "[1, 2, 3]\n"
          ]
        }
      ]
    },
    {
      "cell_type": "markdown",
      "source": [
        "### 04"
      ],
      "metadata": {
        "id": "H0c4jfHqcw1-"
      }
    },
    {
      "cell_type": "code",
      "source": [
        "class StackWithQueues:\n",
        "    def __init__(self):\n",
        "        self.q1 = []\n",
        "        self.q2 = []\n",
        "\n",
        "    def push(self, x):\n",
        "        self.q1.append(x)\n",
        "\n",
        "    def pop(self):\n",
        "        while len(self.q1) > 1:\n",
        "            self.q2.append(self.q1.pop(0))\n",
        "        popped = self.q1.pop(0)\n",
        "        self.q1, self.q2 = self.q2, []\n",
        "        return popped\n"
      ],
      "metadata": {
        "id": "7BTlnSVCczMu"
      },
      "execution_count": 19,
      "outputs": []
    },
    {
      "cell_type": "markdown",
      "source": [
        "### 05"
      ],
      "metadata": {
        "id": "r-Slso4Fc8mq"
      }
    },
    {
      "cell_type": "code",
      "source": [
        "class QueueUsingStacks:\n",
        "    def __init__(self):\n",
        "        self.stack1 = []\n",
        "        self.stack2 = []\n",
        "\n",
        "    def enqueue(self, x):\n",
        "        self.stack1.append(x)\n",
        "\n",
        "    def dequeue(self):\n",
        "        if not self.stack2:\n",
        "            while self.stack1:\n",
        "                self.stack2.append(self.stack1.pop())\n",
        "\n",
        "        if self.stack2:\n",
        "            return self.stack2.pop()\n",
        "        else:\n",
        "            return None  # 큐가 비어 있음\n"
      ],
      "metadata": {
        "id": "2VVzHSKJc9dM"
      },
      "execution_count": 20,
      "outputs": []
    },
    {
      "cell_type": "markdown",
      "source": [
        "### 06"
      ],
      "metadata": {
        "id": "EnPD1INkeegw"
      }
    },
    {
      "cell_type": "markdown",
      "source": [
        " enqueue()는 FIFO 구조이므로 입력크기에 상관없이 항상 일정한 시간 안에 실행된다. 따라서  수행시간은 O(1)이다\n",
        "\n",
        " dequeue()도 FIFO 구조로 언제나 빠르게 실행가능하며 수행시간은 O(1)로 동일하다"
      ],
      "metadata": {
        "id": "bA1zi7SLfIj8"
      }
    },
    {
      "cell_type": "markdown",
      "source": [
        "### 07"
      ],
      "metadata": {
        "id": "umOAWtJmg6R-"
      }
    },
    {
      "cell_type": "markdown",
      "source": [
        " enqueue()의 수행시간은 O(n)이며 맨 끝까지 탐색이 필요한 반면 dequeue()의 수행시간은 O(1)로 더미 헤드 덕분에 바로 삭제 가능하다."
      ],
      "metadata": {
        "id": "ixPdlwAGh0uK"
      }
    },
    {
      "cell_type": "markdown",
      "source": [
        "### 08"
      ],
      "metadata": {
        "id": "VaDoE_mki_ur"
      }
    },
    {
      "cell_type": "code",
      "source": [
        "class ListDeque:\n",
        "    def __init__(self):\n",
        "        self.__deque = []\n",
        "\n",
        "    def enqueueFront(self, x):\n",
        "        self.__deque.insert(0, x)  # 맨 앞에 삽입 (시간: O(n))\n",
        "\n",
        "    def enqueueRear(self, x):\n",
        "        self.__deque.append(x)     # 맨 뒤에 삽입 (시간: O(1))\n",
        "\n",
        "    def dequeueFront(self):\n",
        "        if not self.isEmpty():\n",
        "            return self.__deque.pop(0)  # 맨 앞 제거 (시간: O(n))\n",
        "        return None\n",
        "\n",
        "    def dequeueRear(self):\n",
        "        if not self.isEmpty():\n",
        "            return self.__deque.pop()   # 맨 뒤 제거 (시간: O(1))\n",
        "        return None\n",
        "\n",
        "    def front(self):\n",
        "        if not self.isEmpty():\n",
        "            return self.__deque[0]\n",
        "        return None\n",
        "\n",
        "    def rear(self):\n",
        "        if not self.isEmpty():\n",
        "            return self.__deque[-1]\n",
        "        return None\n",
        "\n",
        "    def isEmpty(self):\n",
        "        return len(self.__deque) == 0\n",
        "\n",
        "    def clear(self):\n",
        "        self.__deque.clear()\n",
        "\n",
        "    def printDeque(self):\n",
        "        print(\"Deque from front:\", end=\" \")\n",
        "        for item in self.__deque:\n",
        "            print(item, end=\" \")\n",
        "        print()\n"
      ],
      "metadata": {
        "id": "K6jl2kXkjAfS"
      },
      "execution_count": 21,
      "outputs": []
    },
    {
      "cell_type": "markdown",
      "source": [
        "# Assignment05"
      ],
      "metadata": {
        "id": "5bQuarsk0Uot"
      }
    },
    {
      "cell_type": "markdown",
      "source": [
        "## 3번"
      ],
      "metadata": {
        "id": "Hn2XW4JJYxEl"
      }
    },
    {
      "cell_type": "code",
      "source": [
        "class MinHeap:\n",
        "    def __init__(self):\n",
        "        self.heap = []\n",
        "\n",
        "    def insert(self, item):\n",
        "        self.heap.append(item)\n",
        "        self._heapify_up(len(self.heap) - 1)\n",
        "\n",
        "    def delete(self):\n",
        "        if len(self.heap) == 0:\n",
        "            return None\n",
        "        if len(self.heap) == 1:\n",
        "            return self.heap.pop()\n",
        "        root = self.heap[0]\n",
        "        self.heap[0] = self.heap.pop()\n",
        "        self._heapify_down(0)\n",
        "        return root\n",
        "\n",
        "    def _heapify_up(self, index):\n",
        "        parent = (index - 1) // 2\n",
        "        if index > 0 and self.heap[index][0] < self.heap[parent][0]:\n",
        "            self.heap[index], self.heap[parent] = self.heap[parent], self.heap[index]\n",
        "            self._heapify_up(parent)\n",
        "\n",
        "    def _heapify_down(self, index):\n",
        "        smallest = index\n",
        "        left = 2 * index + 1\n",
        "        right = 2 * index + 2\n",
        "\n",
        "        if left < len(self.heap) and self.heap[left][0] < self.heap[smallest][0]:\n",
        "            smallest = left\n",
        "        if right < len(self.heap) and self.heap[right][0] < self.heap[smallest][0]:\n",
        "            smallest = right\n",
        "        if smallest != index:\n",
        "            self.heap[index], self.heap[smallest] = self.heap[smallest], self.heap[index]\n",
        "            self._heapify_down(smallest)\n"
      ],
      "metadata": {
        "id": "CQsh6roTYyHe"
      },
      "execution_count": 22,
      "outputs": []
    },
    {
      "cell_type": "code",
      "source": [
        "# 데이터 불러오기\n",
        "import pandas as pd\n",
        "\n",
        "df = pd.read_csv(\"birthday.csv\")\n",
        "df = df.dropna(subset=['생년월일8자리(예.20040101)']).copy()\n",
        "df['생년월일'] = df['생년월일8자리(예.20040101)'].astype(int)\n",
        "\n",
        "# 최대 힙처럼 쓰기 위해 -생년월일로 저장\n",
        "heap = MinHeap()\n",
        "for _, row in df.iterrows():\n",
        "    heap.insert((-row['생년월일'], row['이름']))\n",
        "\n",
        "# 생일 느린 순으로 10명 출력\n",
        "for _ in range(min(10, len(heap.heap))):\n",
        "    birth, name = heap.delete()\n",
        "    print(f\"{name}: {-birth}\")\n"
      ],
      "metadata": {
        "colab": {
          "base_uri": "https://localhost:8080/"
        },
        "id": "mzrPoKW3YzvU",
        "outputId": "18899937-c17f-4f64-a13e-0e4a24438019"
      },
      "execution_count": 23,
      "outputs": [
        {
          "output_type": "stream",
          "name": "stdout",
          "text": [
            "홍서연: 20241282\n",
            "신수민: 20051230\n",
            "이서영: 20051225\n",
            "강민주: 20051214\n",
            "김민경: 20051202\n",
            "이서영: 20051112\n",
            "배시은: 20051102\n",
            "김여원: 20051031\n",
            "이서진: 20051028\n",
            "서홍빈: 20051024\n"
          ]
        }
      ]
    },
    {
      "cell_type": "markdown",
      "source": [
        "## 4번"
      ],
      "metadata": {
        "id": "zlkbBWH1cm0M"
      }
    },
    {
      "cell_type": "code",
      "source": [
        "class Node:\n",
        "    def __init__(self, name, birthday):\n",
        "        self.name = name\n",
        "        self.birthday = birthday\n",
        "        self.prev = None\n",
        "        self.next = None\n",
        "\n",
        "class CircularDoublyLinkedList:\n",
        "    def __init__(self):\n",
        "        self.head = None\n",
        "\n",
        "    def append(self, name, birthday):\n",
        "        new_node = Node(name, birthday)\n",
        "        if not self.head:\n",
        "            self.head = new_node\n",
        "            new_node.next = new_node\n",
        "            new_node.prev = new_node\n",
        "        else:\n",
        "            tail = self.head.prev\n",
        "            tail.next = new_node\n",
        "            new_node.prev = tail\n",
        "            new_node.next = self.head\n",
        "            self.head.prev = new_node\n",
        "\n",
        "    def display_group_members(self, group_names):\n",
        "        result = []\n",
        "        if not self.head:\n",
        "            return result\n",
        "        current = self.head\n",
        "        while True:\n",
        "            if current.name in group_names:\n",
        "                result.append((current.name, current.birthday))\n",
        "            current = current.next\n",
        "            if current == self.head:\n",
        "                break\n",
        "        return result\n",
        "\n",
        "# 생일 데이터 불러오기\n",
        "import pandas as pd\n",
        "\n",
        "df = pd.read_csv(\"birthday.csv\")\n",
        "df = df.dropna(subset=['생년월일8자리(예.20040101)']).copy()\n",
        "df['생년월일'] = df['생년월일8자리(예.20040101)'].astype(int)\n",
        "\n",
        "# 연결 리스트에 추가\n",
        "cdll = CircularDoublyLinkedList()\n",
        "for _, row in df.iterrows():\n",
        "    cdll.append(row['이름'], row['생년월일'])\n",
        "\n",
        "# 우리 조원 명단\n",
        "my_group = [\n",
        "    \"송민서\", \"안수민\", \"오예준\", \"진혜윤\", \"김채민\",\n",
        "    \"김예빈\", \"신희영\", \"김선민\", \"김혜인\", \"김주하\",\n",
        "    \"최가온\", \"배시은\", \"강수아\", \"김서빈\"\n",
        "]\n",
        "\n",
        "# 결과 출력\n",
        "result = cdll.display_group_members(my_group)\n",
        "for name, birth in result:\n",
        "    print(f\"{name}: {birth}\")\n"
      ],
      "metadata": {
        "colab": {
          "base_uri": "https://localhost:8080/"
        },
        "id": "QT6qT_lhY2ox",
        "outputId": "a2e37f45-3b57-4339-928b-f642bd794b67"
      },
      "execution_count": 24,
      "outputs": [
        {
          "output_type": "stream",
          "name": "stdout",
          "text": [
            "강수아: 20041103\n",
            "김서빈: 20040628\n",
            "김예빈: 20051019\n",
            "김주하: 20050417\n",
            "김채민: 20050910\n",
            "김혜인: 20051001\n",
            "배시은: 20051102\n",
            "송민서: 20041108\n",
            "신희영: 20050126\n",
            "안수민: 20030603\n",
            "오예준: 20050712\n",
            "최가온: 20051008\n"
          ]
        }
      ]
    },
    {
      "cell_type": "markdown",
      "source": [
        "## 5번_교재 8장 우선 순위 큐 연습문제"
      ],
      "metadata": {
        "id": "at3WxJpmc15g"
      }
    },
    {
      "cell_type": "markdown",
      "source": [
        "### 01번\n",
        "없다."
      ],
      "metadata": {
        "id": "fo6pBFf0WgXP"
      }
    },
    {
      "cell_type": "markdown",
      "source": [
        "### 02번\n",
        "A[0]은 루트 노드로 항상 가장 큰 값이다.\n",
        "그러나 A[n-1]은 항상 작은 값을 가지지 않는다. 같은 레벨에 속한 노드 중에서 더 작은 값이 존재 할 수 있다\n"
      ],
      "metadata": {
        "id": "YOYrjbjFWxIK"
      }
    },
    {
      "cell_type": "markdown",
      "source": [
        "### 03번\n",
        "n/2 개"
      ],
      "metadata": {
        "id": "wFGZPphFXJaR"
      }
    },
    {
      "cell_type": "markdown",
      "source": [
        "### 04번\n",
        "최악의 시간 복잡도: Θ(log n)  \\\n",
        "최선의 시간 복잡도: Θ(1)"
      ],
      "metadata": {
        "id": "pBmgiSPqXNhL"
      }
    },
    {
      "cell_type": "markdown",
      "source": [
        "### 5번\n",
        " 간단한 일이다. 단순히 배열의 끝 원소를 제거하면 되기 때문에 힙 구조 유지에 영향을 미치지 않기 때문이다."
      ],
      "metadata": {
        "id": "Q_2utcehXask"
      }
    },
    {
      "cell_type": "markdown",
      "source": [
        "### 6번\n",
        "루트부터 시작하면 힙 속성이 미리 만족되지 않기 때문에 연쇄적인 정렬이 필요해 비효율적이다. buildHeap()는 아래에서 위로 올라가며 정렬하면서 자식 노드가 먼저 정리되어 효율적인 것이다. 반대로 루트부터 하면 정렬이 반복되고 시간 복잡도가 증가한다."
      ],
      "metadata": {
        "id": "a49JVkpIqTOW"
      }
    },
    {
      "cell_type": "markdown",
      "source": [
        "###  7번\n",
        "새 원소는 배열 마지막에 추가한다. 그 다음에 부모 노드와 비교하면서 부모보다 값이 클 경우 위로 이동한다. 즉, 위로 스며오르게 하기 때문에 수선 가능한 것이다."
      ],
      "metadata": {
        "id": "TzunTZr8quAH"
      }
    },
    {
      "cell_type": "markdown",
      "source": [
        "## 6_LeetCode 703.Kth Largest Element in Stream"
      ],
      "metadata": {
        "id": "Rj-X6bSJk6-p"
      }
    },
    {
      "cell_type": "code",
      "source": [
        "import heapq\n",
        "\n",
        "class KthLargest:\n",
        "\n",
        "    def __init__(self, k: int, nums: list[int]):\n",
        "        self.k = k\n",
        "        self.minheap = nums\n",
        "        heapq.heapify(self.minheap)  # 최소 힙으로 변환\n",
        "        while len(self.minheap) > k:\n",
        "            heapq.heappop(self.minheap)  # k개만 남김\n",
        "\n",
        "    def add(self, val: int) -> int:\n",
        "        heapq.heappush(self.minheap, val)\n",
        "        if len(self.minheap) > self.k:\n",
        "            heapq.heappop(self.minheap)\n",
        "        return self.minheap[0]  # k번째로 큰 값\n"
      ],
      "metadata": {
        "id": "z3Fqebjuc2xG"
      },
      "execution_count": 25,
      "outputs": []
    },
    {
      "cell_type": "code",
      "source": [],
      "metadata": {
        "id": "Eu16fPX6k1nA"
      },
      "execution_count": 25,
      "outputs": []
    }
  ]
}